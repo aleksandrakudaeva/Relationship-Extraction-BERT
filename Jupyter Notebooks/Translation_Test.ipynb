{
 "cells": [
  {
   "cell_type": "markdown",
   "metadata": {
    "toc": true
   },
   "source": [
    "<h1>Table of Contents<span class=\"tocSkip\"></span></h1>\n",
    "<div class=\"toc\"><ul class=\"toc-item\"><li><span><a href=\"#create-a-dataset-with-two-stars-at-the-end-of-both-entities\" data-toc-modified-id=\"create-a-dataset-with-two-stars-at-the-end-of-both-entities-1\"><span class=\"toc-item-num\">1&nbsp;&nbsp;</span>create a dataset with two stars at the end of both entities</a></span></li><li><span><a href=\"#Create-a-dataset-with-a-star-at-the-end-of-first-entity\" data-toc-modified-id=\"Create-a-dataset-with-a-star-at-the-end-of-first-entity-2\"><span class=\"toc-item-num\">2&nbsp;&nbsp;</span>Create a dataset with a star at the end of first entity</a></span></li><li><span><a href=\"#Read-translated-datasets-in-German\" data-toc-modified-id=\"Read-translated-datasets-in-German-3\"><span class=\"toc-item-num\">3&nbsp;&nbsp;</span>Read translated datasets in German</a></span></li><li><span><a href=\"#Process-translated-german-sentences\" data-toc-modified-id=\"Process-translated-german-sentences-4\"><span class=\"toc-item-num\">4&nbsp;&nbsp;</span>Process translated german sentences</a></span></li><li><span><a href=\"#create-dictionary-of-label-pairs\" data-toc-modified-id=\"create-dictionary-of-label-pairs-5\"><span class=\"toc-item-num\">5&nbsp;&nbsp;</span>create dictionary of label pairs</a></span></li><li><span><a href=\"#Filter\" data-toc-modified-id=\"Filter-6\"><span class=\"toc-item-num\">6&nbsp;&nbsp;</span>Filter</a></span></li></ul></div>"
   ]
  },
  {
   "cell_type": "code",
   "execution_count": 50,
   "metadata": {
    "ExecuteTime": {
     "end_time": "2020-12-09T06:36:46.180669Z",
     "start_time": "2020-12-09T06:36:46.166150Z"
    }
   },
   "outputs": [],
   "source": [
    "import pandas as pd\n",
    "import numpy as np\n",
    "import re"
   ]
  },
  {
   "cell_type": "code",
   "execution_count": 51,
   "metadata": {
    "ExecuteTime": {
     "end_time": "2020-12-09T06:36:46.662734Z",
     "start_time": "2020-12-09T06:36:46.647735Z"
    }
   },
   "outputs": [],
   "source": [
    "with open('data/semeval/test_file_full.txt') as f: \n",
    "    eng_small = f.readlines()"
   ]
  },
  {
   "cell_type": "code",
   "execution_count": 52,
   "metadata": {
    "ExecuteTime": {
     "end_time": "2020-12-09T06:36:47.130141Z",
     "start_time": "2020-12-09T06:36:47.105128Z"
    }
   },
   "outputs": [],
   "source": [
    "sentences_raw = eng_small[::4] # get strings with sentences\n",
    "labels = eng_small[1::4] # get labels\n",
    "sentences_ent = [re.findall(r'(?<=\\t\")(.*)(?=\"\\n)', string)[0] for string in sentences_raw] # extract sentences"
   ]
  },
  {
   "cell_type": "code",
   "execution_count": null,
   "metadata": {},
   "outputs": [],
   "source": [
    "def extract_entities(lst_with_tags): \n",
    "    e1_de = [re.findall(r'(?<=<e1>)(.*)(?=</e1>)', string) for string in lst_with_tags] # get entity 1\n",
    "    e2_de = [re.findall(r'(?<=<e2>)(.*)(?=</e2>)', string) for string in lst_with_tags] # get entity 2\n",
    "    return e1_de, e2_de"
   ]
  },
  {
   "cell_type": "code",
   "execution_count": 4,
   "metadata": {
    "ExecuteTime": {
     "end_time": "2020-12-09T05:44:21.808079Z",
     "start_time": "2020-12-09T05:44:21.729931Z"
    }
   },
   "outputs": [],
   "source": [
    "# preprocess English dataset\n",
    "sentences_ent = [string.rstrip() for string in sentences_ent] # extract sentences\n",
    "e1, e2 = extract_entities(sentences_ent)"
   ]
  },
  {
   "cell_type": "markdown",
   "metadata": {},
   "source": [
    "### create a dataset with two stars at the end of both entities "
   ]
  },
  {
   "cell_type": "code",
   "execution_count": 5,
   "metadata": {
    "ExecuteTime": {
     "end_time": "2020-12-09T05:44:28.525533Z",
     "start_time": "2020-12-09T05:44:28.472953Z"
    }
   },
   "outputs": [],
   "source": [
    "# replace entity markers with stars for correct translation\n",
    "sentences_ = [re.sub(r'<e1>',\"\",st) for st in sentences_ent] \n",
    "sentences_ = [re.sub(r'<e2>',\"\",st) for st in sentences_] \n",
    "sentences_ = [re.sub(r'</e1>',\"*\",st) for st in sentences_]\n",
    "sentences_ = [re.sub(r'</e2>','*',st) for st in sentences_] "
   ]
  },
  {
   "cell_type": "code",
   "execution_count": 6,
   "metadata": {
    "ExecuteTime": {
     "end_time": "2020-12-09T05:44:29.127066Z",
     "start_time": "2020-12-09T05:44:29.105275Z"
    }
   },
   "outputs": [],
   "source": [
    "# save redacted sentences\n",
    "with open('data/semeval_de_new/test_sentences_en_stars.txt', 'w') as f: \n",
    "    f.writelines(line + '\\n' for line in sentences_)"
   ]
  },
  {
   "cell_type": "markdown",
   "metadata": {},
   "source": [
    "### Create a dataset with a star at the end of first entity"
   ]
  },
  {
   "cell_type": "code",
   "execution_count": null,
   "metadata": {},
   "outputs": [],
   "source": [
    "# replace entity markers with stars for correct translation\n",
    "sentences_1 = [re.sub(r'<e1>',\"\",st) for st in sentences_ent] \n",
    "sentences_1 = [re.sub(r'<e2>',\"\",st) for st in sentences_1] \n",
    "sentences_1 = [re.sub(r'</e1>',\"*\",st) for st in sentences_1]\n",
    "sentences_1 = [re.sub(r'</e2>','',st) for st in sentences_1]"
   ]
  },
  {
   "cell_type": "code",
   "execution_count": null,
   "metadata": {},
   "outputs": [],
   "source": [
    "# save redacted sentences\n",
    "with open('data/semeval_de_new/test_sentences_en_star1.txt', 'w') as f: \n",
    "    f.writelines(line + '\\n' for line in sentences_1)"
   ]
  },
  {
   "cell_type": "markdown",
   "metadata": {},
   "source": [
    "### Read translated datasets in German "
   ]
  },
  {
   "cell_type": "markdown",
   "metadata": {},
   "source": [
    "**Note**: This part should be replaced with working API for DeepL translations. However, the API is not freely available, therefore this step is currently done manually. "
   ]
  },
  {
   "cell_type": "code",
   "execution_count": 8,
   "metadata": {
    "ExecuteTime": {
     "end_time": "2020-12-09T05:57:30.063118Z",
     "start_time": "2020-12-09T05:57:30.043117Z"
    }
   },
   "outputs": [],
   "source": [
    "# read translated sentences in German (2stars)\n",
    "with open('data/semeval_de_new/test_sentences_de_stars.txt', 'r', encoding = 'utf-8') as f: \n",
    "    de_small = f.readlines()\n",
    "\n",
    "# read translated sentences in German (1star)\n",
    "with open('data/semeval_de_new/test_sentences_de_star1.txt', 'r', encoding = 'utf-8') as f: \n",
    "    de_small1 = f.readlines()"
   ]
  },
  {
   "cell_type": "raw",
   "metadata": {},
   "source": [
    "# read translated sentences in German\n",
    "with open('translated_test/semeval_de_sent_stars2.txt', 'r', encoding = 'utf-8') as f: \n",
    "    de_small2 = f.readlines()\n",
    "    \n",
    "# read manually created file in German\n",
    "with open('translated_test/test_de_small_annotated.txt', 'r', encoding = 'utf-8') as f: \n",
    "    de_small_manual = f.readlines()"
   ]
  },
  {
   "cell_type": "markdown",
   "metadata": {},
   "source": [
    "### Process translated german sentences "
   ]
  },
  {
   "cell_type": "code",
   "execution_count": 12,
   "metadata": {
    "ExecuteTime": {
     "end_time": "2020-12-09T06:01:20.914300Z",
     "start_time": "2020-12-09T06:01:20.788289Z"
    }
   },
   "outputs": [],
   "source": [
    "# replace * with entity end tags\n",
    "\n",
    "def return_entity_tags(lst_with_stars):\n",
    "    \n",
    "    sentences_de = []\n",
    "\n",
    "    for i, sent_de in enumerate(lst_with_stars): \n",
    "\n",
    "        sent = sent_de.rstrip()\n",
    "        # delete special quotation marks\n",
    "        sent = re.sub(r'\\\"', \"\", sent)\n",
    "        # add a space at the beginning of each sentence\n",
    "        sent = re.sub(r'^', ' ', sent)\n",
    "\n",
    "        #replace e1\n",
    "        sent = re.sub(r'\\*',\"</e1>\",sent, 1)\n",
    "        sent = re.sub(r'[ ](?=[a-zA-Z\\u00C0-\\u017F\\'-\\/0-9\\&]+<\\/e1>)', ' <e1>', sent)\n",
    "\n",
    "        #replace e2\n",
    "        sent = re.sub(r'\\*',\"</e2>\",sent)\n",
    "        sent = re.sub(r'[ ](?=[a-zA-Z\\u00C0-\\u017F\\'-\\/0-9\\&]+<\\/e2>)', ' <e2>', sent)\n",
    "\n",
    "        sentences_de.append(sent)\n",
    "        \n",
    "    return sentences_de"
   ]
  },
  {
   "cell_type": "code",
   "execution_count": null,
   "metadata": {},
   "outputs": [],
   "source": [
    "sentences_de = return_entity_tags(de_small) # with stars at the end of both entities\n",
    "sentences_de1 = return_entity_tags(de_small1) # with one star for 1st entity "
   ]
  },
  {
   "cell_type": "code",
   "execution_count": null,
   "metadata": {
    "ExecuteTime": {
     "end_time": "2020-12-09T06:01:36.286356Z",
     "start_time": "2020-12-09T06:01:35.664767Z"
    }
   },
   "outputs": [],
   "source": [
    "#test\n",
    "for i, sent in enumerate(sentences_de):\n",
    "    print(i,sent)"
   ]
  },
  {
   "cell_type": "code",
   "execution_count": 16,
   "metadata": {
    "ExecuteTime": {
     "end_time": "2020-12-09T06:03:52.466348Z",
     "start_time": "2020-12-09T06:03:52.364872Z"
    }
   },
   "outputs": [],
   "source": [
    "e1_de, e2_de = extract_entities(sentences_de)\n",
    "e1_de1, e2_de1 = extract_entities(sentences_de1)"
   ]
  },
  {
   "cell_type": "code",
   "execution_count": 17,
   "metadata": {
    "ExecuteTime": {
     "end_time": "2020-12-09T06:04:01.452438Z",
     "start_time": "2020-12-09T06:04:01.445440Z"
    }
   },
   "outputs": [],
   "source": [
    "e1_missing = []\n",
    "for i, word in enumerate(e1_de): \n",
    "    if len(word) == 0: \n",
    "        e1_missing.append(i)"
   ]
  },
  {
   "cell_type": "code",
   "execution_count": 18,
   "metadata": {
    "ExecuteTime": {
     "end_time": "2020-12-09T06:04:02.148424Z",
     "start_time": "2020-12-09T06:04:02.136425Z"
    }
   },
   "outputs": [],
   "source": [
    "e2_missing = []\n",
    "for i, word in enumerate(e2_de): \n",
    "    if len(word) == 0: \n",
    "        e2_missing.append(i)"
   ]
  },
  {
   "cell_type": "code",
   "execution_count": 19,
   "metadata": {
    "ExecuteTime": {
     "end_time": "2020-12-09T06:04:02.724648Z",
     "start_time": "2020-12-09T06:04:02.702652Z"
    }
   },
   "outputs": [
    {
     "data": {
      "text/plain": [
       "(0, 140)"
      ]
     },
     "execution_count": 19,
     "metadata": {},
     "output_type": "execute_result"
    }
   ],
   "source": [
    "len(e1_missing), len(e2_missing)"
   ]
  },
  {
   "cell_type": "code",
   "execution_count": 41,
   "metadata": {
    "ExecuteTime": {
     "end_time": "2020-12-09T06:20:42.910760Z",
     "start_time": "2020-12-09T06:20:42.903756Z"
    }
   },
   "outputs": [],
   "source": [
    "#compare e2 from the first list with e1 from first to identify changed labels\n",
    "changed_labels = [i for i in range(len(e2_de)) if (e2_de[i] == e1_de1[i])&(labels[i]!='Other\\n')]"
   ]
  },
  {
   "cell_type": "code",
   "execution_count": 42,
   "metadata": {
    "ExecuteTime": {
     "end_time": "2020-12-09T06:20:43.346793Z",
     "start_time": "2020-12-09T06:20:43.338793Z"
    }
   },
   "outputs": [
    {
     "data": {
      "text/plain": [
       "73"
      ]
     },
     "execution_count": 42,
     "metadata": {},
     "output_type": "execute_result"
    }
   ],
   "source": [
    "len(changed_labels)"
   ]
  },
  {
   "cell_type": "code",
   "execution_count": null,
   "metadata": {
    "ExecuteTime": {
     "end_time": "2020-12-09T06:20:44.600559Z",
     "start_time": "2020-12-09T06:20:44.579551Z"
    }
   },
   "outputs": [],
   "source": [
    "# test\n",
    "for i in changed_labels: \n",
    "    print(i, \n",
    "          labels[i],\n",
    "          sentences_ent[i], \n",
    "          de_small[i]\n",
    "         )"
   ]
  },
  {
   "cell_type": "code",
   "execution_count": 34,
   "metadata": {
    "ExecuteTime": {
     "end_time": "2020-12-09T06:20:10.479659Z",
     "start_time": "2020-12-09T06:20:10.465642Z"
    }
   },
   "outputs": [
    {
     "data": {
      "text/plain": [
       "'Other\\n'"
      ]
     },
     "execution_count": 34,
     "metadata": {},
     "output_type": "execute_result"
    }
   ],
   "source": [
    "labels[191]"
   ]
  },
  {
   "cell_type": "markdown",
   "metadata": {},
   "source": [
    "### create dictionary of label pairs"
   ]
  },
  {
   "cell_type": "code",
   "execution_count": 44,
   "metadata": {
    "ExecuteTime": {
     "end_time": "2020-12-09T06:25:08.451874Z",
     "start_time": "2020-12-09T06:25:08.435894Z"
    }
   },
   "outputs": [
    {
     "data": {
      "text/plain": [
       "{'Cause-Effect(e1,e2)\\n',\n",
       " 'Cause-Effect(e2,e1)\\n',\n",
       " 'Component-Whole(e1,e2)\\n',\n",
       " 'Component-Whole(e2,e1)\\n',\n",
       " 'Content-Container(e1,e2)\\n',\n",
       " 'Content-Container(e2,e1)\\n',\n",
       " 'Entity-Destination(e1,e2)\\n',\n",
       " 'Entity-Destination(e2,e1)\\n',\n",
       " 'Entity-Origin(e1,e2)\\n',\n",
       " 'Entity-Origin(e2,e1)\\n',\n",
       " 'Instrument-Agency(e1,e2)\\n',\n",
       " 'Instrument-Agency(e2,e1)\\n',\n",
       " 'Member-Collection(e1,e2)\\n',\n",
       " 'Member-Collection(e2,e1)\\n',\n",
       " 'Message-Topic(e1,e2)\\n',\n",
       " 'Message-Topic(e2,e1)\\n',\n",
       " 'Other\\n',\n",
       " 'Product-Producer(e1,e2)\\n',\n",
       " 'Product-Producer(e2,e1)\\n'}"
      ]
     },
     "execution_count": 44,
     "metadata": {},
     "output_type": "execute_result"
    }
   ],
   "source": [
    "set(labels)"
   ]
  },
  {
   "cell_type": "code",
   "execution_count": 45,
   "metadata": {
    "ExecuteTime": {
     "end_time": "2020-12-09T06:34:17.840043Z",
     "start_time": "2020-12-09T06:34:17.832041Z"
    }
   },
   "outputs": [],
   "source": [
    "opp_dir_rel = {'Cause-Effect(e1,e2)\\n': 'Cause-Effect(e2,e1)\\n', \n",
    "                 'Cause-Effect(e2,e1)\\n': 'Cause-Effect(e1,e2)\\n',\n",
    "                 'Component-Whole(e1,e2)\\n': 'Component-Whole(e2,e1)\\n', \n",
    "                 'Component-Whole(e2,e1)\\n': 'Component-Whole(e1,e2)\\n', \n",
    "                 'Content-Container(e1,e2)\\n': 'Content-Container(e2,e1)\\n', \n",
    "                 'Content-Container(e2,e1)\\n': 'Content-Container(e1,e2)\\n',\n",
    "                 'Entity-Destination(e1,e2)\\n': 'Entity-Destination(e2,e1)\\n', \n",
    "                 'Entity-Destination(e2,e1)\\n': 'Entity-Destination(e1,e2)\\n',\n",
    "                 'Entity-Origin(e1,e2)\\n': 'Entity-Origin(e2,e1)\\n', \n",
    "                 'Entity-Origin(e2,e1)\\n': 'Entity-Origin(e1,e2)\\n',\n",
    "                 'Instrument-Agency(e1,e2)\\n': 'Instrument-Agency(e2,e1)\\n', \n",
    "                 'Instrument-Agency(e2,e1)\\n': 'Instrument-Agency(e1,e2)\\n',\n",
    "                 'Member-Collection(e1,e2)\\n': 'Member-Collection(e2,e1)\\n', \n",
    "                 'Member-Collection(e2,e1)\\n': 'Member-Collection(e1,e2)\\n',\n",
    "                 'Message-Topic(e1,e2)\\n': 'Message-Topic(e2,e1)\\n', \n",
    "                 'Message-Topic(e2,e1)\\n': 'Message-Topic(e1,e2)\\n',\n",
    "                 'Product-Producer(e1,e2)\\n': 'Product-Producer(e2,e1)\\n', \n",
    "                 'Product-Producer(e2,e1)\\n': 'Product-Producer(e1,e2)\\n',\n",
    "                 'Other\\n': 'Other\\n'\n",
    "                }"
   ]
  },
  {
   "cell_type": "code",
   "execution_count": 53,
   "metadata": {
    "ExecuteTime": {
     "end_time": "2020-12-09T06:37:01.070289Z",
     "start_time": "2020-12-09T06:37:01.060274Z"
    }
   },
   "outputs": [],
   "source": [
    "labels_new = labels\n",
    "for i in changed_labels: \n",
    "    labels_new[i] = opp_dir_rel[labels_new[i]]"
   ]
  },
  {
   "cell_type": "markdown",
   "metadata": {},
   "source": [
    "### Filter "
   ]
  },
  {
   "cell_type": "code",
   "execution_count": 25,
   "metadata": {
    "ExecuteTime": {
     "end_time": "2020-12-09T06:06:55.015597Z",
     "start_time": "2020-12-09T06:06:54.983596Z"
    }
   },
   "outputs": [],
   "source": [
    "sentences_de_final = [sentences_de[i] for i in range(len(sentences_de)) if i not in e2_missing]\n",
    "labels_de_final = [labels_new[i] for i in range(len(sentences_de)) if i not in e2_missing]"
   ]
  },
  {
   "cell_type": "code",
   "execution_count": 54,
   "metadata": {
    "ExecuteTime": {
     "end_time": "2020-12-09T06:37:30.508353Z",
     "start_time": "2020-12-09T06:37:30.489352Z"
    }
   },
   "outputs": [
    {
     "data": {
      "text/plain": [
       "(2577, 2577)"
      ]
     },
     "execution_count": 54,
     "metadata": {},
     "output_type": "execute_result"
    }
   ],
   "source": [
    "len(sentences_de_final), len(labels_de_final)"
   ]
  },
  {
   "cell_type": "code",
   "execution_count": 58,
   "metadata": {
    "ExecuteTime": {
     "end_time": "2020-12-09T06:39:44.123844Z",
     "start_time": "2020-12-09T06:39:44.110841Z"
    }
   },
   "outputs": [],
   "source": [
    "combined = [str(str(i)+'   \"'+sentences_de_final[i]+'\"'+'\\n'+labels_de_final[i]+'Comment: \\n'+'\\n') for i in range(len(sentences_de_final))]"
   ]
  },
  {
   "cell_type": "code",
   "execution_count": 59,
   "metadata": {
    "ExecuteTime": {
     "end_time": "2020-12-09T06:39:45.063165Z",
     "start_time": "2020-12-09T06:39:45.042169Z"
    }
   },
   "outputs": [],
   "source": [
    "# save redacted sentences\n",
    "with open('data/semeval_de_new/final/test_file_de_final.txt', 'w', encoding = 'utf-8') as f: \n",
    "    f.writelines(line for line in combined)"
   ]
  },
  {
   "cell_type": "code",
   "execution_count": 69,
   "metadata": {
    "ExecuteTime": {
     "end_time": "2020-12-09T17:50:14.546792Z",
     "start_time": "2020-12-09T17:50:14.495805Z"
    }
   },
   "outputs": [],
   "source": [
    "# for review save also initial german with english version\n",
    "sentences_en_final = [sentences_ent[i] for i in range(len(sentences_ent)) if i not in e2_missing]\n",
    "labels_en_final = [labels[i] for i in range(len(sentences_ent)) if i not in e2_missing]\n",
    "\n",
    "comb_review = [str(str(i)\n",
    "                +'   \"'\n",
    "                +sentences_de_final[i]\n",
    "                +'\"'+'\\n'\n",
    "                +labels_de_final[i]\n",
    "                +'\"'\n",
    "                +sentences_en_final[i]\n",
    "                +'\"'\n",
    "                +'\\n'\n",
    "                +'Old Label: '\n",
    "                +labels_en_final[i]\n",
    "                +'Comment:' \n",
    "                +'\\n\\n') \n",
    "            for i in range(len(sentences_de_final))]\n",
    "\n",
    "# save redacted sentences\n",
    "with open('data/semeval_de_new/review/test_for_review.txt', 'w', encoding = 'utf-8') as f: \n",
    "    f.writelines(line for line in comb_review)"
   ]
  },
  {
   "cell_type": "code",
   "execution_count": null,
   "metadata": {},
   "outputs": [],
   "source": []
  }
 ],
 "metadata": {
  "kernelspec": {
   "display_name": "Python 3",
   "language": "python",
   "name": "python3"
  },
  "language_info": {
   "codemirror_mode": {
    "name": "ipython",
    "version": 3
   },
   "file_extension": ".py",
   "mimetype": "text/x-python",
   "name": "python",
   "nbconvert_exporter": "python",
   "pygments_lexer": "ipython3",
   "version": "3.7.2"
  },
  "toc": {
   "base_numbering": 1,
   "nav_menu": {},
   "number_sections": true,
   "sideBar": true,
   "skip_h1_title": false,
   "title_cell": "Table of Contents",
   "title_sidebar": "Contents",
   "toc_cell": true,
   "toc_position": {},
   "toc_section_display": true,
   "toc_window_display": false
  }
 },
 "nbformat": 4,
 "nbformat_minor": 4
}
